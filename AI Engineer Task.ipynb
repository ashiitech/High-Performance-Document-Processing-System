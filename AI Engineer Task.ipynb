{
 "cells": [
  {
   "cell_type": "markdown",
   "id": "fa81e463",
   "metadata": {},
   "source": [
    "# High-Performance PDF Processing and Question Answering System"
   ]
  },
  {
   "cell_type": "markdown",
   "id": "3694e2fb",
   "metadata": {},
   "source": [
    "# 1. Introduction\n",
    "\n"
   ]
  },
  {
   "cell_type": "markdown",
   "id": "e3b34d56",
   "metadata": {},
   "source": [
    "This project aims to process large PDF files efficiently and answer specific questions by extracting relevant information. The system uses basic Python libraries, focusing on extracting text from PDF files after the table of contents and answering predefined questions based on the content.\n"
   ]
  },
  {
   "cell_type": "markdown",
   "id": "4d00d824",
   "metadata": {},
   "source": [
    "# 2. Requirements"
   ]
  },
  {
   "cell_type": "markdown",
   "id": "06ac21fa",
   "metadata": {},
   "source": [
    "Python Libraries: PyPDF2, aiofiles, asyncio\n",
    "\n",
    "Key Features:\n",
    "\n",
    "Extract text from PDF starting after a specified section (e.g., \"chapter\").\n",
    "\n",
    "Answer questions from the extracted PDF text.\n",
    "\n",
    "Process multiple PDF files concurrently using asynchronous programming.\n",
    "\n"
   ]
  },
  {
   "cell_type": "code",
   "execution_count": 1,
   "id": "69b5ad4a",
   "metadata": {},
   "outputs": [
    {
     "name": "stdout",
     "output_type": "stream",
     "text": [
      "Requirement already satisfied: psutil in ./anaconda3/lib/python3.11/site-packages (5.9.0)\r\n"
     ]
    }
   ],
   "source": [
    "!pip install psutil\n"
   ]
  },
  {
   "cell_type": "code",
   "execution_count": 2,
   "id": "edbdd137",
   "metadata": {},
   "outputs": [],
   "source": [
    "import asyncio  # For asynchronous processing\n",
    "import PyPDF2  # For reading PDF files\n",
    "import psutil  # For monitoring memory usage\n",
    "import os      # For interacting with the operating system "
   ]
  },
  {
   "cell_type": "markdown",
   "id": "1bfbf5b5",
   "metadata": {},
   "source": [
    "# 3. Code Implementation"
   ]
  },
  {
   "cell_type": "markdown",
   "id": "0f436dc4",
   "metadata": {},
   "source": [
    "# Extracting Text from a PDF"
   ]
  },
  {
   "cell_type": "code",
   "execution_count": 3,
   "id": "74ec2e15",
   "metadata": {},
   "outputs": [],
   "source": [
    "def extract_text_from_pdf(pdf_file, start_after=\"chapter\"):\n",
    "    text = \"\"\n",
    "    start_extracting = False\n",
    "    with open(pdf_file, 'rb') as file:\n",
    "        reader = PyPDF2.PdfReader(file)\n",
    "        for page_num in range(len(reader.pages)):\n",
    "            page_text = reader.pages[page_num].extract_text() or ''\n",
    "            if start_after.lower() in page_text.lower():\n",
    "                start_extracting = True\n",
    "            if start_extracting:\n",
    "                text += page_text\n",
    "    return text.lower()  \n"
   ]
  },
  {
   "cell_type": "markdown",
   "id": "28ade4d8",
   "metadata": {},
   "source": [
    "This function reads a PDF file and extracts text starting after a specified keyword (e.g., \"chapter\").\n",
    "\n",
    "It checks each page, and once it finds the keyword, it starts collecting the remaining text.\n",
    "The result is returned in lowercase for case-insensitive processing."
   ]
  },
  {
   "cell_type": "markdown",
   "id": "7853688b",
   "metadata": {},
   "source": [
    "# Searching for an Answer in the PDF Text"
   ]
  },
  {
   "cell_type": "code",
   "execution_count": 4,
   "id": "66b7bc6c",
   "metadata": {},
   "outputs": [],
   "source": [
    "def find_answer_in_text(pdf_text, question, context_size=500):\n",
    "    question_lower = question.lower()\n",
    "    if question_lower in pdf_text:\n",
    "        # Return the surrounding context if the question is found\n",
    "        start_idx = pdf_text.find(question_lower)\n",
    "        context = pdf_text[max(0, start_idx - context_size):min(len(pdf_text), start_idx + context_size)]\n",
    "        return f\"Answer found:\\n{context}\"\n",
    "    else:\n",
    "        return \"No relevant information found.\"\n"
   ]
  },
  {
   "cell_type": "markdown",
   "id": "045589cb",
   "metadata": {},
   "source": [
    "This function searches for a question in the extracted PDF text. \n",
    "\n",
    "If the question is found, it returns a portion of the surrounding text (context) based on the specified size. \n",
    "\n",
    "If the question is not found, it returns a message saying no relevant information was found."
   ]
  },
  {
   "cell_type": "markdown",
   "id": "2a5d3181",
   "metadata": {},
   "source": [
    "# Process Single PDF"
   ]
  },
  {
   "cell_type": "code",
   "execution_count": 5,
   "id": "e8e0e6eb",
   "metadata": {},
   "outputs": [],
   "source": [
    "async def process_single_pdf(pdf_file, question):\n",
    "    pdf_text = extract_text_from_pdf(pdf_file)\n",
    "    if not pdf_text:\n",
    "        return \"No relevant information found.\"\n",
    "\n",
    "    # Search for the answer in the PDF text\n",
    "    answer = find_answer_in_text(pdf_text, question)\n",
    "    return answer"
   ]
  },
  {
   "cell_type": "markdown",
   "id": "4b7f8206",
   "metadata": {},
   "source": [
    "# Process PDFs in Parallel"
   ]
  },
  {
   "cell_type": "code",
   "execution_count": 6,
   "id": "bee6d887",
   "metadata": {},
   "outputs": [],
   "source": [
    "async def process_pdfs_in_parallel(pdf_files, question):\n",
    "    tasks = [process_single_pdf(pdf_file, question) for pdf_file in pdf_files]\n",
    "    results = await asyncio.gather(*tasks)\n",
    "\n",
    "    # Display the answers \n",
    "    for i, result in enumerate(results):\n",
    "        print(f\"Answer from PDF {i + 1}: {result}\")\n"
   ]
  },
  {
   "cell_type": "markdown",
   "id": "4c5384b1",
   "metadata": {},
   "source": [
    "This asynchronous function processes multiple PDF files in parallel. It creates a list of tasks, each calling process_single_pdf() for a different PDF, and runs them simultaneously using asyncio.gather(). After gathering the results, it prints the answer found in each PDF, showing which file the answer came from."
   ]
  },
  {
   "cell_type": "markdown",
   "id": "85f13be5",
   "metadata": {},
   "source": [
    "# Monitor Memory Usage"
   ]
  },
  {
   "cell_type": "code",
   "execution_count": 7,
   "id": "2deee362",
   "metadata": {},
   "outputs": [],
   "source": [
    "def print_memory_usage():\n",
    "    process = psutil.Process(os.getpid())\n",
    "    mem_info = process.memory_info()\n",
    "    print(f\"Memory usage: {mem_info.rss / (1024 * 1024):.2f} MB\")  # Memory in MB\n"
   ]
  },
  {
   "cell_type": "markdown",
   "id": "f141ec6c",
   "metadata": {},
   "source": [
    "# Main Function"
   ]
  },
  {
   "cell_type": "code",
   "execution_count": 8,
   "id": "b1736e82",
   "metadata": {},
   "outputs": [],
   "source": [
    "async def main():\n",
    "    question = input(\"Enter your question: \")  \n",
    "    pdf_files = ['/Users/ashinirf/Downloads/book.pdf'] \n",
    "    \n",
    "    print(\"Memory usage before processing:\")\n",
    "    print_memory_usage()\n",
    "\n",
    "    # Calling processing function \n",
    "    await process_pdfs_in_parallel(pdf_files, question)\n",
    "\n",
    "    print(\"Memory usage after processing:\")\n",
    "    print_memory_usage()\n"
   ]
  },
  {
   "cell_type": "markdown",
   "id": "c1cbceaa",
   "metadata": {},
   "source": [
    "This asynchronous main() function prompts the user to enter a question, then processes a list of PDF files (in this case, just one). It prints the memory usage before and after processing the PDFs. The function uses process_pdfs_in_parallel() to search for the answer to the question across the PDFs, displaying results while monitoring system performance."
   ]
  },
  {
   "cell_type": "code",
   "execution_count": 9,
   "id": "a13c4ed9",
   "metadata": {},
   "outputs": [
    {
     "name": "stdout",
     "output_type": "stream",
     "text": [
      "Enter your question: Introduction\n",
      "Memory usage before processing:\n",
      "Memory usage: 76.28 MB\n",
      "Answer from PDF 1: Answer found:\n",
      "contents \n",
      " \n",
      "chapter \n",
      "no. name of the chapter \n",
      " \n",
      " page no. \n",
      " syllabus  - \n",
      "1. fundamentals of computers  1-21 \n",
      "2. input/output devices and other hardware   22-40 \n",
      "3. windows operating system 41-52 4. introduction to microsoft word 53-83 \n",
      "5. advanced features of microsoft word    84-106 \n",
      " \n",
      " \n",
      " chapter-1 \n",
      "fundamentals of computers \n",
      "objectives of this lesson \n",
      "this lesson is aimed to make you understand the following about a computer system: \n",
      " historical evolution of computers and computer generations \n",
      " working model of a digital computer and functions of a digital computer \n",
      " basic characteristics of digital computer  \n",
      " types of computers                            \n",
      " classification of digita\n",
      "Memory usage after processing:\n",
      "Memory usage: 139.09 MB\n"
     ]
    }
   ],
   "source": [
    "await main()\n"
   ]
  },
  {
   "cell_type": "markdown",
   "id": "6626a291",
   "metadata": {},
   "source": [
    "# Conclusion"
   ]
  },
  {
   "cell_type": "markdown",
   "id": "c500a44f",
   "metadata": {},
   "source": [
    "This code reads PDFs, looks for answers to your question, and tracks memory use. It processes multiple PDFs at once to save time. It's useful for handling large PDF files quickly."
   ]
  },
  {
   "cell_type": "code",
   "execution_count": null,
   "id": "1ed1887c",
   "metadata": {},
   "outputs": [],
   "source": []
  }
 ],
 "metadata": {
  "kernelspec": {
   "display_name": "Python 3 (ipykernel)",
   "language": "python",
   "name": "python3"
  },
  "language_info": {
   "codemirror_mode": {
    "name": "ipython",
    "version": 3
   },
   "file_extension": ".py",
   "mimetype": "text/x-python",
   "name": "python",
   "nbconvert_exporter": "python",
   "pygments_lexer": "ipython3",
   "version": "3.11.5"
  }
 },
 "nbformat": 4,
 "nbformat_minor": 5
}
